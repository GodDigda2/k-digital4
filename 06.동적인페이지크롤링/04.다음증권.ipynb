{
 "cells": [
  {
   "cell_type": "code",
   "execution_count": 35,
   "metadata": {},
   "outputs": [
    {
     "name": "stdout",
     "output_type": "stream",
     "text": [
      "1 A035720 카카오 57900\n",
      "2 A005930 삼성전자 61800\n",
      "3 A001570 금양 29850\n",
      "4 A323410 카카오뱅크 28300\n",
      "5 A001440 대한전선 1860\n",
      "6 A034020 두산에너빌리티 16900\n",
      "7 A068270 셀트리온 186500\n",
      "8 A373220 LG에너지솔루션 591000\n",
      "9 A003670 포스코케미칼 234000\n",
      "10 A019170 신풍제약 29650\n"
     ]
    }
   ],
   "source": [
    "import requests\n",
    "from bs4 import BeautifulSoup\n",
    "import json\n",
    "# header 옵션\n",
    "header = {\n",
    "    'User-Agent' : 'Mozila/5.0',\n",
    "    'referer' : 'https://finance.daum.net/' #Requests Header에서 찾기\n",
    "}\n",
    "\n",
    "#인기 검색 10위 데이터 Ajax요청 찾기\n",
    "response = requests.get(\"https://finance.daum.net/api/search/ranks?limit=10\",headers = header)\n",
    "# 다 찾으신 분들은 파싱까지 진행\n",
    "data = json.loads(response.text)\n",
    "data\n",
    "ranks = data['data']\n",
    "count = 0\n",
    "for rank in ranks:\n",
    "    count+=1\n",
    "    symbolcode = rank['symbolCode']\n",
    "    name = rank['name']\n",
    "    price = rank['tradePrice']\n",
    "    print(count, symbolcode, name, price)\n",
    "    count+=1"
   ]
  }
 ],
 "metadata": {
  "kernelspec": {
   "display_name": "Python 3.9.12 ('base')",
   "language": "python",
   "name": "python3"
  },
  "language_info": {
   "codemirror_mode": {
    "name": "ipython",
    "version": 3
   },
   "file_extension": ".py",
   "mimetype": "text/x-python",
   "name": "python",
   "nbconvert_exporter": "python",
   "pygments_lexer": "ipython3",
   "version": "3.9.12"
  },
  "orig_nbformat": 4,
  "vscode": {
   "interpreter": {
    "hash": "014a1d4f4127abf91d419a90ea146722ef617667aa392137e996c5d4104c429e"
   }
  }
 },
 "nbformat": 4,
 "nbformat_minor": 2
}
