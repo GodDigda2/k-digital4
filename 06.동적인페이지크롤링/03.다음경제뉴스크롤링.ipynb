{
 "cells": [
  {
   "cell_type": "code",
   "execution_count": 1,
   "metadata": {},
   "outputs": [
    {
     "name": "stderr",
     "output_type": "stream",
     "text": [
      "C:\\Users\\startcoding\\AppData\\Local\\Temp\\ipykernel_8416\\2250985753.py:6: DeprecationWarning: executable_path has been deprecated, please pass in a Service object\n",
      "  driver = webdriver.Chrome(\"c://chromedriver.exe\")\n"
     ]
    },
    {
     "name": "stdout",
     "output_type": "stream",
     "text": [
      "16:48 매일경제 “이젠 떠날 때”...돌아온 6만전자에 개인 7650억원 팔았다 https://v.daum.net/v/20221114164800372\n",
      "16:45 머니투데이 LG엔솔·삼성SDI·SK온, 불경기 고민도 해법도 '3사 3색' https://v.daum.net/v/20221114164502273\n",
      "16:44 이데일리 낮은 금리로 '대출 갈아타기' 허용…넘어야 할 산은? https://v.daum.net/v/20221114164413248\n",
      "16:43 MBC 코스피, 소폭 하락 마감‥원·달러 환율은 상승 https://v.daum.net/v/20221114164305208\n",
      "16:42 경향신문 원·달러 환율 숨고르기···7.5원 오른 1325.9원 마감 https://v.daum.net/v/20221114164219183\n",
      "16:42 중앙일보 '각 그랜저' 귀환에 벌써 11만명 줄섰다…가격 3716만원부터 https://v.daum.net/v/20221114164219182\n",
      "16:41 연합뉴스 K푸드 인기에 해외사업 성장…CJ제일제당 3분기 영업익 11.8%↑(종합) https://v.daum.net/v/20221114164132129\n",
      "16:41 서울신문 허경환, ‘27억대 사기’ 딛고 80억원 건물주 됐다 https://v.daum.net/v/20221114164103108\n",
      "16:40 뉴시스 아시아나, 3분기 영업익 2293억…6분기 연속 흑자 https://v.daum.net/v/20221114164023078\n",
      "16:40 뉴시스 코스맥스, 中봉쇄 여파 3Q 영업익 21%↓ \"내년 1Q 회복 전망\" https://v.daum.net/v/20221114164021072\n",
      "16:38 한국경제 [단독] 권혁빈 스마일게이트 창업자 이혼 소송…\"세기의 재산분할\" https://v.daum.net/v/20221114163801976\n",
      "16:36 한국경제 헤드램프 기술의 진화…요즘 신차엔 안개등이 없다 https://v.daum.net/v/20221114163602882\n",
      "16:35 머니투데이 예타 탈락 '급제동' 걸린 하이퍼튜브, 다음달 재신청한다 https://v.daum.net/v/20221114163510842\n",
      "16:35 뉴스1 해외여행 상승세 탔다…모두투어, 3분기 적자폭 48.9% 개선(상보) https://v.daum.net/v/20221114163501825\n",
      "16:34 연합뉴스 휴마시스, 3분기 영업손실 91억…진단키트 수요감소속 적자전환 https://v.daum.net/v/20221114163447815\n",
      "16:33 매일경제 “왜 나만 돈에 쪼들리나”...국민 절반 이상 주거비 부담에 박탈감 https://v.daum.net/v/20221114163324766\n",
      "16:33 매경이코노미 美 IRA 타고 반도체 이을 주도주로…약세장 무색한 2차전지株 https://v.daum.net/v/20221114163311757\n",
      "16:33 매일경제 ‘전월세 난’은 커녕 매물 남아 돈다…서울에만 8만 건 넘는데 거래는 바닥 https://v.daum.net/v/20221114163301738\n",
      "16:32 뉴시스 포스코 \"재난대응 체계 보완, 생산 지속전략 세운다\" https://v.daum.net/v/20221114163258733\n",
      "16:30 노컷뉴스 체감경제 고통지수, 청년층 가장 높다…취업난‧고물가 영향 https://v.daum.net/v/20221114163022658\n"
     ]
    }
   ],
   "source": [
    "from selenium import webdriver\n",
    "from selenium.webdriver.common.by import By\n",
    "from selenium.webdriver.common.keys import Keys\n",
    "import time\n",
    "\n",
    "driver = webdriver.Chrome(\"c://chromedriver.exe\")\n",
    "driver.get(\"https://news.daum.net/economic#1\")\n",
    "time.sleep(2)\n",
    "\n",
    "articles = driver.find_elements(By.CSS_SELECTOR, \".list_realtime > li\")\n",
    "for article in articles:\n",
    "    t_time = article.find_element(By.CSS_SELECTOR, \".txt_time\").text\n",
    "    press = article.find_element(By.CSS_SELECTOR, \".info_cp\").text\n",
    "    anchor = article.find_element(By.CSS_SELECTOR, \".link_txt\")\n",
    "    title = anchor.text\n",
    "    link = anchor.get_attribute('href')\n",
    "    print(t_time, press, title, link)"
   ]
  },
  {
   "cell_type": "code",
   "execution_count": null,
   "metadata": {},
   "outputs": [],
   "source": []
  }
 ],
 "metadata": {
  "kernelspec": {
   "display_name": "Python 3.10.6 64-bit",
   "language": "python",
   "name": "python3"
  },
  "language_info": {
   "codemirror_mode": {
    "name": "ipython",
    "version": 3
   },
   "file_extension": ".py",
   "mimetype": "text/x-python",
   "name": "python",
   "nbconvert_exporter": "python",
   "pygments_lexer": "ipython3",
   "version": "3.10.6"
  },
  "orig_nbformat": 4,
  "vscode": {
   "interpreter": {
    "hash": "200fa5d0b2981d58b1f27a61a10a35692b9d56d91ef977d0357ac52583da061d"
   }
  }
 },
 "nbformat": 4,
 "nbformat_minor": 2
}
