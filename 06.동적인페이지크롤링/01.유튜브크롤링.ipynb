{
 "cells": [
  {
   "cell_type": "code",
   "execution_count": 2,
   "metadata": {},
   "outputs": [
    {
     "ename": "AttributeError",
     "evalue": "'NoneType' object has no attribute 'text'",
     "output_type": "error",
     "traceback": [
      "\u001b[1;31m---------------------------------------------------------------------------\u001b[0m",
      "\u001b[1;31mAttributeError\u001b[0m                            Traceback (most recent call last)",
      "\u001b[1;32mc:\\k-digital4\\06.동적인페이지크롤링\\01.유튜브크롤링.ipynb 셀 1\u001b[0m in \u001b[0;36m<cell line: 12>\u001b[1;34m()\u001b[0m\n\u001b[0;32m      <a href='vscode-notebook-cell:/c%3A/k-digital4/06.%EB%8F%99%EC%A0%81%EC%9D%B8%ED%8E%98%EC%9D%B4%EC%A7%80%ED%81%AC%EB%A1%A4%EB%A7%81/01.%EC%9C%A0%ED%8A%9C%EB%B8%8C%ED%81%AC%EB%A1%A4%EB%A7%81.ipynb#W0sZmlsZQ%3D%3D?line=8'>9</a>\u001b[0m html \u001b[39m=\u001b[39m response\u001b[39m.\u001b[39mtext\n\u001b[0;32m     <a href='vscode-notebook-cell:/c%3A/k-digital4/06.%EB%8F%99%EC%A0%81%EC%9D%B8%ED%8E%98%EC%9D%B4%EC%A7%80%ED%81%AC%EB%A1%A4%EB%A7%81/01.%EC%9C%A0%ED%8A%9C%EB%B8%8C%ED%81%AC%EB%A1%A4%EB%A7%81.ipynb#W0sZmlsZQ%3D%3D?line=9'>10</a>\u001b[0m soup \u001b[39m=\u001b[39m BeautifulSoup(html, \u001b[39m'\u001b[39m\u001b[39mhtml.parser\u001b[39m\u001b[39m'\u001b[39m)\n\u001b[1;32m---> <a href='vscode-notebook-cell:/c%3A/k-digital4/06.%EB%8F%99%EC%A0%81%EC%9D%B8%ED%8E%98%EC%9D%B4%EC%A7%80%ED%81%AC%EB%A1%A4%EB%A7%81/01.%EC%9C%A0%ED%8A%9C%EB%B8%8C%ED%81%AC%EB%A1%A4%EB%A7%81.ipynb#W0sZmlsZQ%3D%3D?line=11'>12</a>\u001b[0m soup\u001b[39m.\u001b[39;49mselect_one(\u001b[39m\"\u001b[39;49m\u001b[39m#video-title > yt-formatted-string\u001b[39;49m\u001b[39m\"\u001b[39;49m)\u001b[39m.\u001b[39;49mtext\n",
      "\u001b[1;31mAttributeError\u001b[0m: 'NoneType' object has no attribute 'text'"
     ]
    }
   ],
   "source": [
    "# 첫번째 영상의 제목 크롤링\n",
    "# requests, bs4로 해보기\n",
    "\n",
    "import requests\n",
    "from bs4 import BeautifulSoup\n",
    "\n",
    "response = requests.get(\"https://www.youtube.com/results?search_query=%EC%8A%A4%ED%83%80%ED%8A%B8%EC%BD%94%EB%94%A9\")\n",
    "\n",
    "html = response.text\n",
    "soup = BeautifulSoup(html, 'html.parser')\n",
    "\n",
    "soup.select_one(\"#video-title > yt-formatted-string\").text"
   ]
  },
  {
   "cell_type": "code",
   "execution_count": 10,
   "metadata": {},
   "outputs": [
    {
     "name": "stderr",
     "output_type": "stream",
     "text": [
      "C:\\Users\\startcoding\\AppData\\Local\\Temp\\ipykernel_3944\\170820393.py:6: DeprecationWarning: executable_path has been deprecated, please pass in a Service object\n",
      "  driver = webdriver.Chrome(\"c://chromedriver.exe\")\n"
     ]
    },
    {
     "name": "stdout",
     "output_type": "stream",
     "text": [
      "부업으로 하루 10만원, '이것'만 해도 충분합니다. 조회수 1.2만회 5일 전\n",
      "돈 버는 법 조회수 40만회 2개월 전\n",
      "[북콘서트] 최상위 부자가 알려주는 돈 버는 방법 (돈의속성 | 빠르게 실패하기) 조회수 10만회 4개월 전\n",
      "3개월만 이렇게 해보면 어떻게 돈 벌어야 할지 답이 나옵니다 (고명환) 조회수 22만회 4주 전\n",
      "쌍둥이만 할 수 있는 돈 버는 방법 ㅋㅋㅋㅋㅋㅋㅋㅋㅋㅋㅋㅋㅋㅋ 조회수 12만회 3일 전\n",
      "이대로 따라만하면 초등학생도 월 100만 원 벌 수 있습니다 조회수 19만회 2개월 전\n",
      "어그로 아니고, 스마트폰 하나로 방구석에서 월천만원 버는 방법 알려드립니다, 재능도 필요 없고 자본도 필요 없습니다. 노력도 필요 없어요 안 하면 후회 | 유튜브 개쉽게 하는 방법 조회수 14만회 1개월 전\n",
      "빨리 시작할수록 이득입니다. 쉽게 돈 버는 재택부업 best 5 지금 바로 시작하세요! 조회수 12만회 2개월 전\n",
      "학생이 방구석에서 단 1일만에 15만원 버는법🔥🔥 돈버는법 돈버는법학생 재택부업 직장인부업 돈버는방법 조회수 7.6만회 1개월 전\n",
      "나는 부자들의 '이것들'을 보고 돈을 더 벌기 시작했다 (前신사임당 주언규) 조회수 85만회 1개월 전\n",
      "망한 모텔 사서 한 달에 4천만원 버는 38살 사장님 조회수 212만회 1개월 전\n",
      "앱테크 그만, 휴대폰 하나로 부업해서 하루 15만원 버는법! (시간, 장소 상관X) 조회수 2.4만회 1개월 전\n",
      "성공하고 싶다면 목숨 걸고 이 원칙을 지켜라 (좋은 기업을 넘어 위대한 기업으로) [주언규의 돈버는 생각] 조회수 26만회 5개월 전\n",
      "돈 버는법에 대한 한국인들의 '치명적인' 착각 (이영주 대표 1부) 조회수 2.4만회 3일 전\n",
      "월 천만 원, 20대가 0원으로 버는 방법 (왜 아무도 안 할까..?) 조회수 29만회 7개월 전\n",
      "하루 30분! 부업으로 월 200만원 돈버는 새로운 방법! 수익 인증! (나이 학력 무관! 누구나 당장 시작 가능해요) ft.칼퇴의기술 조회수 10만회 3개월 전\n",
      "스마트폰 하나로 방구석에서 월500 버는 방법 // 무자본, 무노력, 무시간으로 지금 바로 가능합니다 조회수 6만회 1개월 전\n",
      "집에서 부업으로 월 900만원 돈버는 새로운 방법! 수익 인증! (하루 2시간! 나이, 학력 무관! 휴대폰으로도 가능해요) ft.암사자 이경진 조회수 16만회 5개월 전\n",
      "카카오뷰 그만, 퇴근 후 부업으로 집에서 하루 10만원 돈버는법! (눈 감고도 가능) 조회수 21만회 5개월 전\n",
      "5%만 알고 있는 쉽게 돈버는법, 꼭 보세요. 조회수 40만회 1년 전\n",
      "가난한 사람들의 3가지 습관, 부자되는법, 돈버는방법(제이원) 조회수 3천회 1일 전\n",
      "200억 자산가가 2040에게 알려주는 지금 돈버는 방법 조회수 1.4만회 4주 전\n",
      "'돈 버는 법'에 대한 한국인들의 치명적인 착각 (前신사임당 주언규 1부 풀버전) 조회수 27만회 2개월 전\n",
      "(1강) 유튜브 '구독자 0명' 채널로 가장 빠르게 돈버는 방법 조회수 9.9천회 6일 전\n"
     ]
    }
   ],
   "source": [
    "from selenium import webdriver\n",
    "from selenium.webdriver.common.by import By\n",
    "from selenium.webdriver.common.keys import Keys\n",
    "import time\n",
    "\n",
    "driver = webdriver.Chrome(\"c://chromedriver.exe\")\n",
    "driver.get(\"https://www.youtube.com/results?search_query=%EB%8F%88%EB%B2%84%EB%8A%94%EB%B2%95\")\n",
    "time.sleep(2)\n",
    "\n",
    "# 영상 정보를 담은 덩어리 가져오기\n",
    "infos = driver.find_elements(By.CSS_SELECTOR, \"div#meta\")\n",
    "\n",
    "for info in infos:\n",
    "    try:\n",
    "        title = info.find_element(By.CSS_SELECTOR, \"a#video-title\").text\n",
    "        views = info.find_element(By.CSS_SELECTOR, \"#metadata-line > span:nth-of-type(1)\").text\n",
    "        date = info.find_element(By.CSS_SELECTOR, \"#metadata-line > span:nth-of-type(2)\").text\n",
    "        print(title, views, date)\n",
    "    except:\n",
    "        pass"
   ]
  },
  {
   "cell_type": "code",
   "execution_count": null,
   "metadata": {},
   "outputs": [],
   "source": []
  }
 ],
 "metadata": {
  "kernelspec": {
   "display_name": "Python 3.10.6 64-bit",
   "language": "python",
   "name": "python3"
  },
  "language_info": {
   "codemirror_mode": {
    "name": "ipython",
    "version": 3
   },
   "file_extension": ".py",
   "mimetype": "text/x-python",
   "name": "python",
   "nbconvert_exporter": "python",
   "pygments_lexer": "ipython3",
   "version": "3.10.6"
  },
  "orig_nbformat": 4,
  "vscode": {
   "interpreter": {
    "hash": "200fa5d0b2981d58b1f27a61a10a35692b9d56d91ef977d0357ac52583da061d"
   }
  }
 },
 "nbformat": 4,
 "nbformat_minor": 2
}
