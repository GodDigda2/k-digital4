{
 "cells": [
  {
   "cell_type": "code",
   "execution_count": 5,
   "metadata": {},
   "outputs": [
    {
     "name": "stdout",
     "output_type": "stream",
     "text": [
      "내일 빼빼로 데이인데 어떡해할까요?\n",
      "내일 빼빼로 데이인가요?\n",
      "빼빼로데이\n",
      "짝남 빼빼로데이\n",
      "빼빼로 데이는 마케팅으로 생겨났나요?\n",
      "빼빼로데이\n",
      "빼빼로데이 여친선물 추천좀 해주세요\n",
      "급합니다 빼빼로 데이 남사친에게 편지\n",
      "빼빼로데이\n",
      "빼빼로 데이 김영란법\n",
      "2022.11.10.\n",
      "2022.11.10.\n",
      "2022.11.08.\n",
      "2022.11.04.\n",
      "2022.11.06.\n",
      "2022.11.10.\n",
      "2022.10.19.\n",
      "2022.11.10.\n",
      "2022.10.31.\n",
      "2022.11.10.\n"
     ]
    }
   ],
   "source": [
    "# 2단계\n",
    "# 1페이지 10개 질문의 제목, 링크, 날짜, 내용\n",
    "import requests\n",
    "from bs4 import BeautifulSoup\n",
    "\n",
    "response = requests.get(\"https://kin.naver.com/search/list.naver?query=%EB%B9%BC%EB%B9%BC%EB%A1%9C%EB%8D%B0%EC%9D%B4\")\n",
    "html = response.text\n",
    "soup = BeautifulSoup(html, 'html.parser')\n",
    "anchors = soup.select(\"dt > a\")\n",
    "dates = soup.select(\".txt_inline\")\n",
    "\n",
    "for anchor in anchors:\n",
    "    print(anchor.text)\n",
    "\n",
    "\n",
    "# title = anchor.text #제목\n"
   ]
  },
  {
   "cell_type": "code",
   "execution_count": null,
   "metadata": {},
   "outputs": [],
   "source": [
    "link = anchor.attrs['href'] # 링크\n",
    "date = soup.select_one(\".txt_inline\").text # 날짜\n",
    "content = soup.select_one(\"dl > dd:nth-of-type(2)\").text # 내용\n",
    "print(title, link, date, content)"
   ]
  }
 ],
 "metadata": {
  "kernelspec": {
   "display_name": "Python 3.10.6 64-bit",
   "language": "python",
   "name": "python3"
  },
  "language_info": {
   "codemirror_mode": {
    "name": "ipython",
    "version": 3
   },
   "file_extension": ".py",
   "mimetype": "text/x-python",
   "name": "python",
   "nbconvert_exporter": "python",
   "pygments_lexer": "ipython3",
   "version": "3.10.6"
  },
  "orig_nbformat": 4,
  "vscode": {
   "interpreter": {
    "hash": "200fa5d0b2981d58b1f27a61a10a35692b9d56d91ef977d0357ac52583da061d"
   }
  }
 },
 "nbformat": 4,
 "nbformat_minor": 2
}
