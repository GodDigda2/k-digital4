{
 "cells": [
  {
   "cell_type": "code",
   "execution_count": 1,
   "metadata": {},
   "outputs": [],
   "source": [
    "import requests\n",
    "from bs4 import BeautifulSoup\n",
    "import urllib.request\n",
    "\n",
    "response = requests.get(\"https://search.naver.com/search.naver?where=news&sm=tab_jum&query=%EC%84%B1%EC%88%98%EC%97%AD+%EB%A7%9B%EC%A7%91\")\n",
    "html = response.text\n",
    "soup = BeautifulSoup(html, 'html.parser')\n",
    "\n",
    "# 기사 10개 가져오기\n",
    "articles = soup.select(\".news_wrap\")\n",
    "\n",
    "for i, article in enumerate(articles, 1):\n",
    "    img = article.select_one(\".thumb.api_get\")\n",
    "    img_src = img.attrs['src']\n",
    "    # 이미지 저장하기\n",
    "    urllib.request.urlretrieve(img_src, f'imgs/{i}.jpg')"
   ]
  },
  {
   "cell_type": "code",
   "execution_count": null,
   "metadata": {},
   "outputs": [],
   "source": []
  }
 ],
 "metadata": {
  "kernelspec": {
   "display_name": "Python 3.10.6 64-bit",
   "language": "python",
   "name": "python3"
  },
  "language_info": {
   "codemirror_mode": {
    "name": "ipython",
    "version": 3
   },
   "file_extension": ".py",
   "mimetype": "text/x-python",
   "name": "python",
   "nbconvert_exporter": "python",
   "pygments_lexer": "ipython3",
   "version": "3.10.6"
  },
  "orig_nbformat": 4,
  "vscode": {
   "interpreter": {
    "hash": "200fa5d0b2981d58b1f27a61a10a35692b9d56d91ef977d0357ac52583da061d"
   }
  }
 },
 "nbformat": 4,
 "nbformat_minor": 2
}
