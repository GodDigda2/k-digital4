{
 "cells": [
  {
   "cell_type": "code",
   "execution_count": 1,
   "metadata": {},
   "outputs": [
    {
     "name": "stdout",
     "output_type": "stream",
     "text": [
      "1번째 페이지 크롤링 중...\n",
      "1 롤드컵 패스 후 새로운 패스 https://kin.naver.com/qna/detail.naver?d1id=2&dirId=20132&docId=432271352&qb=66Gk65Oc7Lu1&enc=utf8§ion=kin&rank=1&search_sort=0&spq=0 2022.11.08. ... 이번 롤드컵 패스 끝나고 새로운 패스 바로 나오나요?... 이번 롤드컵 패스처럼 패스 보상에서 보석 50개 이상... 롤드컵 패스만 특별히 신화정수가 50개이고, 다른... \n",
      "2 롤드컵 보는법 https://kin.naver.com/qna/detail.naver?d1id=10&dirId=10010102&docId=429094345&qb=66Gk65Oc7Lu1&enc=utf8§ion=kin&rank=2&search_sort=0&spq=0 2022.09.25. 요즘 롤드컵? 한다고 하던데 어디서 볼수있나요… 안녕하세요 MACHAM입니다. 롤드컵 문의해주셨네요 답변 롤드컵은 9월30일(금)부터 진행 됩니다. 네이버스포츠, 아프리카TV... \n",
      "3 롤드컵 엔딩 브금 아시는 분 https://kin.naver.com/qna/detail.naver?d1id=3&dirId=30211&docId=431560766&qb=66Gk65Oc7Lu1&enc=utf8§ion=kin&rank=3&search_sort=0&spq=0 2022.10.29. 2022 롤드컵 엔딩 부분에 경기 총 하이라이트 보여주면서 나오는... 네이버 롤드컵 8강 T1 VS RNG 3세트 풀영상 1시간 40초에 나오는 브금이요.... \n",
      "4 롤드컵 데프트 https://kin.naver.com/qna/detail.naver?d1id=10&dirId=10010102&docId=432174628&qb=66Gk65Oc7Lu1&enc=utf8§ion=kin&rank=4&search_sort=0&spq=0 2022.11.07. 롤드컵 처음 봤는데 drx 데프트가 우승하니깐 사랑들 왜이렇게... 이뤘지만 롤드컵은 한 번도 들어 본 적이 없었어요. 그걸 위해 지금까지 포기하지 않고 노력해왔고요. 롤드컵... \n",
      "5 2022 롤드컵 중계 무료로 볼 수 있나요?...  https://kin.naver.com/qna/detail.naver?d1id=4&dirId=40607&docId=431740064&qb=66Gk65Oc7Lu1&enc=utf8§ion=kin&rank=5&search_sort=0&spq=0 2022.11.01. 2022 롤드컵 중계 무료 시청 되나요? 2022 리그오브레전드 월드 챔피언십 결승 일정 궁금해요  2022 롤드컵 중계 무료로 볼 수 있나요? 결승 중계 궁금해요 2022 롤드컵... \n",
      "6 롤드컵보는법 https://kin.naver.com/qna/detail.naver?d1id=2&dirId=210&docId=432055408&qb=66Gk65Oc7Lu1&enc=utf8§ion=kin&rank=6&search_sort=0&spq=0 2022.11.06. 내일하는 롤드컵 보고싶은데 어디서 보나요?  롤드컵은 온라인 생중계로 보실 수 있습니다. 대표적으로 네이버 스포츠나 아프리카티비가 있구요 아래 링크... \n",
      "7 2022 롤드컵 결승 중계 tv로 가능한가요?...  https://kin.naver.com/qna/detail.naver?d1id=4&dirId=40606&docId=432050321&qb=66Gk65Oc7Lu1&enc=utf8§ion=kin&rank=7&search_sort=0&spq=0 2022.11.05. 2022 롤드컵 결승 중계 tv로도 가능한건가요? 하이라이트 영상도 볼 수 있나요? 2022 롤드컵 결승 중계 tv로 가능한가요? 하이라이트 영상도요 2022 롤드컵 결승 중계 tv로도... \n",
      "8 롤드컵 브금 질문 https://kin.naver.com/qna/detail.naver?d1id=3&dirId=30211&docId=431180921&qb=66Gk65Oc7Lu1&enc=utf8§ion=kin&rank=8&search_sort=0&spq=0 2022.10.24. 노래 제목이 뭔가요? <Lejon Lewis, Sebastian Barnaby Robertson, Jacob Paul Turner - Upbeat & Cheer> 이 곡을 확인해 보세요. https://m.youtube.com/watch?v... \n",
      "9 리그오브레전드 롤드컵 패스 상점 https://kin.naver.com/qna/detail.naver?d1id=2&dirId=20132&docId=431016107&qb=66Gk65Oc7Lu1&enc=utf8§ion=kin&rank=9&search_sort=0&spq=0 2022.10.21. 리그오브레전드 롤드컵 패스 상점에서 프레스티지 마스터이 나오고 곧 재출시 된다는 프레스티지 롤드컵 상패스 상점 에서 뭐나오나요? 스킨이 그리고 언제 나오나요?... \n",
      "10 롤드컵캡슐 https://kin.naver.com/qna/detail.naver?d1id=2&dirId=20132&docId=429512257&qb=66Gk65Oc7Lu1&enc=utf8§ion=kin&rank=10&search_sort=0&spq=0 2022.10.01. 그 롤드컵 롤사이트에ㅠ들어가소 로그인하고 보면 주잖아요 근데 5시간동안보는중인데 1밖에 안주는데 뭔일이져 원래 30분당 1캡슐 이런식이 아니라 불규칙하게 줍니다.... \n",
      "2번째 페이지 크롤링 중...\n",
      "1 롤드컵 그룹스테이지에서 조1위랑 2위 https://kin.naver.com/qna/detail.naver?d1id=2&dirId=20132&docId=430553554&qb=66Gk65Oc7Lu1&enc=utf8§ion=kin&rank=11&search_sort=0&spq=0 2022.10.15. 롤드컵 그룹스테이지에서 조1위랑 2위는 똑같이 8강 진출하는데 어떤 차이점이 있나요? 조1위는 추첨시 타 조2위만 만남 2위는 그 반대라 상대적으로 빡셉니다 \n",
      "2 롤드컵 보상질문 https://kin.naver.com/qna/detail.naver?d1id=2&dirId=210&docId=429853846&qb=66Gk65Oc7Lu1&enc=utf8§ion=kin&rank=12&search_sort=0&spq=0 2022.10.05. 롤드컵 보상 드롭될 때 그냥 켜놓으면 되는 건가요? 뭐 보상 뜨면 선착으로 가져가는거 아니고요..? 네 그냥 켜놓으시면 자동으로 받아지구요. 인게임에서 확인하시면 됩니다. \n",
      "3 역대 롤드컵 질문 https://kin.naver.com/qna/detail.naver?d1id=2&dirId=20132&docId=431648869&qb=66Gk65Oc7Lu1&enc=utf8§ion=kin&rank=13&search_sort=0&spq=0 2022.10.31. 지금 롤드컵이 t1이 중국 이겨서 롤드컵에 t1 DRX 젠지 이렇게 셋이 싸우잖아요...... 역대 롤드컵 중에 롤드컵을LCK로 만들어버린 이런경우가 있었나요?  2011... \n",
      "4 롤드컵 브금 뭔지 아시는 분 https://kin.naver.com/qna/detail.naver?d1id=3&dirId=3021102&docId=431791027&qb=66Gk65Oc7Lu1&enc=utf8§ion=kin&rank=14&search_sort=0&spq=0 2022.11.02. https://game.naver.com/esports/League_of_Legends/videos/1024377 맨 처음부터 10초?까지 나오는 브금 뭔지 알 수 있을까요? 유튜브에도 없는거같고... \n",
      "5 롤드컵 보다가 노래찾아요 https://kin.naver.com/qna/detail.naver?d1id=3&dirId=3021102&docId=432157911&qb=66Gk65Oc7Lu1&enc=utf8§ion=kin&rank=15&search_sort=0&spq=0 2022.11.07. 이영상에서 나온 노래?피아노? 뭔지 아시나요 <An (AcuticNotes) - 横顔 (Profile)> 이 곡을 확인해 보세요. https://m.youtube.com/watch?v=cO5BV8QaL-4... \n",
      "6 롤드컵 경기 https://kin.naver.com/qna/detail.naver?d1id=10&dirId=1001010201&docId=432060618&qb=66Gk65Oc7Lu1&enc=utf8§ion=kin&rank=16&search_sort=0&spq=0 2022.11.06. 잘몰라서 그런데 롤드컵 경기하면 보통 몇판을 하는건가요? 보니까 3:1 3:2... 롤드컵은 생중계로도 볼 수 있지만 경기가 끝난 이후에도 다시보기가 가능하니 아래에서 생중계... \n",
      "7 롤 롤드컵 패스 https://kin.naver.com/qna/detail.naver?d1id=2&dirId=20132&docId=430207968&qb=66Gk65Oc7Lu1&enc=utf8§ion=kin&rank=17&search_sort=0&spq=0 2022.10.19. 롤드컵 패스를 10월 31일날 살려 하는데 늦게 사면 안돼나요? 그리고 롤드컵 패스 사면 패스 50렙 까지 찍을수 있나요?  평소에 게임 하셨다면 늦지 않습니다 패스를... \n",
      "8 올해 롤드컵은 언제 열리나요? https://kin.naver.com/qna/detail.naver?d1id=2&dirId=20132&docId=410691567&qb=66Gk65Oc7Lu1&enc=utf8§ion=kin&rank=18&search_sort=0&spq=0 2022.01.27. 올해 롤드컵은 언제 열리나요? 롤드컵은 매년 9월말~10월 중순까지 한달정도 열립니다. 롤드컵스킨판매 기간은 더 깁니다. \n",
      "9 이번 롤드컵 한국팀 일정 궁금합니다. https://kin.naver.com/qna/detail.naver?d1id=2&dirId=210&docId=429815811&qb=66Gk65Oc7Lu1&enc=utf8§ion=kin&rank=19&search_sort=0&spq=0 2022.10.06. 롤드컵 재미나게 보고 있는데 일정 정보 한눈에 볼 수 있는 그런 자료 없을까요? 한국팀 일정 사진입니다. 출처는 LCK 공식 유튜브 커뮤니티입니다. \n",
      "10 롤드컵 스킨 판매 종료 언제하나요 https://kin.naver.com/qna/detail.naver?d1id=2&dirId=20132&docId=432265006&qb=66Gk65Oc7Lu1&enc=utf8§ion=kin&rank=20&search_sort=0&spq=0 2022.11.08. 롤 현재 롤드컵 판매중인 스킨들 언제 내려가나요 11월 15일 오전 6시까지만 판매하고 내년 롤드컵기간 때 다시 판매합니다. \n",
      "3번째 페이지 크롤링 중...\n",
      "1 롤드컵우승 https://kin.naver.com/qna/detail.naver?d1id=2&dirId=210&docId=431704022&qb=66Gk65Oc7Lu1&enc=utf8§ion=kin&rank=21&search_sort=0&spq=0 2022.10.31. Lck는 짱깨들빼고 하는거고 짱깨들만의 리그에서 최종 우승한팀이 롤드컵 우승 자리에서 lck우승팀과 맡붙고 이기는 팀이 롤드컵 우승하는건가요? 아뇨, 롤드컵이 최종 세계... \n",
      "2 롤드컵 우승 스킨 https://kin.naver.com/qna/detail.naver?d1id=2&dirId=20132&docId=419719093&qb=66Gk65Oc7Lu1&enc=utf8§ion=kin&rank=22&search_sort=0&spq=0 2022.05.18. ... 특정 기간에만 구매할 수 있는지와 롤드컵 기간에 일시적으로... 롤드컵 기간 이렇게 1년에 세번씩 우승팀 스킨을 재판매했지만 최근 3년 정도는 오직 3. 롤드컵 기간에만... \n",
      "3 롤드컵 기간 https://kin.naver.com/qna/detail.naver?d1id=2&dirId=20132&docId=424547519&qb=66Gk65Oc7Lu1&enc=utf8§ion=kin&rank=23&search_sort=0&spq=0 2022.07.25. 롤드컵 기간이 언제인가요? 롤드컵스킨이 가지고싶어서요  올해 롤드컵은 9월 29일~11월 5일로 일정이 나왔습니다. 바로 그전 패치일자가 9월 21일이니까 9월 23일(금)... \n",
      "4 롤드컵 드롭스 관련 질문 https://kin.naver.com/qna/detail.naver?d1id=2&dirId=20132&docId=429521580&qb=66Gk65Oc7Lu1&enc=utf8§ion=kin&rank=24&search_sort=0&spq=0 2022.10.01. 오늘 DRX 롤드컵 경기 봤는데 시청한 경기 2개 시간 시청 1개라 떠있는데 보상이 안들어와요 어떻게 받을수있나요 그냥 보기만 하면 되는거 아닌가요?? 4시 50분부터 시청하면... \n",
      "5 롤드컵 결승전 cgv https://kin.naver.com/qna/detail.naver?d1id=2&dirId=210&docId=431936549&qb=66Gk65Oc7Lu1&enc=utf8§ion=kin&rank=25&search_sort=0&spq=0 2022.11.06. 이번 롤드컵 경기cgv에서 틀어준다는데 현장예매를 할수있는지 할수있다면 얼마인지... 스마트폰으로도 롤드컵을 생중계로 볼 수 있거든요. 그러니 밖에 나가서... \n",
      "6 롤드컵 결승 https://kin.naver.com/qna/detail.naver?d1id=2&dirId=20402&docId=431953526&qb=66Gk65Oc7Lu1&enc=utf8§ion=kin&rank=26&search_sort=0&spq=0 2022.11.06. 이번에 체이스센터에서 열리는 롤드컵 결승 가서 관람가능한가요?? 표는 어디서... 스마트폰으로도 롤드컵을 생중계로 볼 수 있거든요. 그러니 밖에 나가서 주차비내면서... \n",
      "7 롤드컵 스킨 질문 https://kin.naver.com/qna/detail.naver?d1id=2&dirId=20132&docId=431233307&qb=66Gk65Oc7Lu1&enc=utf8§ion=kin&rank=27&search_sort=0&spq=0 2022.10.25. 작년에 나왔던 롤드컵스킨의 챔피언 또 출시될 가능성은 0프로라고 봐도 되나요? 예를... 일단 롤드컵 스킨에는 여러가지 규칙이 있는데 1회이상 사용한 챔피언 중에 우승... \n",
      "8 롤드컵 한국어 해설 (내공200) https://kin.naver.com/qna/detail.naver?d1id=2&dirId=20132&docId=431643080&qb=66Gk65Oc7Lu1&enc=utf8§ion=kin&rank=28&search_sort=0&spq=0 2022.10.31. 롤드컵 한국어 해설은 어떤 채널에서 보나요 유튜브 트위치 모두 괜찮으니 알려주세요 내공200  네이버에서 롤드컵 검색하시면 날짜별로 경기 볼수 있습니다\n",
      "9 롤대회 롤드컵? 질문 https://kin.naver.com/qna/detail.naver?d1id=2&dirId=20132&docId=431095178&qb=66Gk65Oc7Lu1&enc=utf8§ion=kin&rank=29&search_sort=0&spq=0 2022.10.23. ... 그리고 롤드컵은 국내대회인가요? 또 lck 코리아 말고... 열리고있는 롤드컵이 가장 큰대회고 국내에서는 롤... 현재 롤드컵 8강에 티원 젠지가 올라가있고요 추가로 담원... \n",
      "10 롤 롤드컵 토큰 안들어옴 https://kin.naver.com/qna/detail.naver?d1id=2&dirId=20132&docId=430205629&qb=66Gk65Oc7Lu1&enc=utf8§ion=kin&rank=30&search_sort=0&spq=0 2022.10.10. 사진에 빨간원 쳐져있는 저 보상이 획득되었다고 뜨는데 사진처럼 토큰은 안들어와있습니다. 이게 원래 안주는건가요 저만 안들어온건가요  이번에 패스 시스템이 바뀌면서... \n"
     ]
    }
   ],
   "source": [
    "# 3단계\n",
    "# 특정 키워드 n 페이지 10개 질문의 제목, 링크, 날짜, 내용\n",
    "import requests\n",
    "from bs4 import BeautifulSoup\n",
    "\n",
    "keyword = input(\"키워드 입력하셈:\")\n",
    "page = int(input(\"페이지 입력하셈:\"))\n",
    "\n",
    "for i in range(1, page + 1):\n",
    "    print(f\"{i}번째 페이지 크롤링 중...\")\n",
    "    response = requests.get(f\"https://kin.naver.com/search/list.naver?query={keyword}&page={i}\")\n",
    "    html = response.text\n",
    "    soup = BeautifulSoup(html, 'html.parser')\n",
    "\n",
    "    # 질문 10개 덩어리 가져오기\n",
    "    questions = soup.select(\".basic1 > li\")\n",
    "    \n",
    "    for i, question in enumerate(questions, 1):\n",
    "        anchor = question.select_one(\"dt > a\")\n",
    "        title = anchor.text # 제목\n",
    "        link = anchor.attrs['href'] # 링크\n",
    "        date = question.select_one(\".txt_inline\").text # 날짜\n",
    "        content = question.select_one(\"dl > dd:nth-of-type(2)\").text # 내용\n",
    "        print(i, title, link, date, content, end='\\n')\n",
    "\n"
   ]
  },
  {
   "cell_type": "code",
   "execution_count": null,
   "metadata": {},
   "outputs": [],
   "source": []
  }
 ],
 "metadata": {
  "kernelspec": {
   "display_name": "Python 3.10.6 64-bit",
   "language": "python",
   "name": "python3"
  },
  "language_info": {
   "codemirror_mode": {
    "name": "ipython",
    "version": 3
   },
   "file_extension": ".py",
   "mimetype": "text/x-python",
   "name": "python",
   "nbconvert_exporter": "python",
   "pygments_lexer": "ipython3",
   "version": "3.10.6"
  },
  "orig_nbformat": 4,
  "vscode": {
   "interpreter": {
    "hash": "200fa5d0b2981d58b1f27a61a10a35692b9d56d91ef977d0357ac52583da061d"
   }
  }
 },
 "nbformat": 4,
 "nbformat_minor": 2
}
