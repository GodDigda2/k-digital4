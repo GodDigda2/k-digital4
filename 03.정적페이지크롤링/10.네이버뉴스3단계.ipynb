{
 "cells": [
  {
   "cell_type": "code",
   "execution_count": 4,
   "metadata": {},
   "outputs": [
    {
     "name": "stdout",
     "output_type": "stream",
     "text": [
      "엔코아 플레이데이터, 개발자 인재 매칭 서비스 오픈 https://zdnet.co.kr/view/?no=20221111123027 엔코아(대표 이화식)의 인공지능(AI), 데이터 교육센터 플레이데이터가 개발자 인재 매칭 서비스 ‘플레이커리어(PLAYCAREER)’를 정식 오픈 했다고 11일 밝혔다. 플레이커리어는 개발자 채용을 원하는 기업의 채용 내용을...\n",
      "국방과학연, 10~11일 학술대회…\"연구개발자 1500명, 논문 405편 발표\" http://www.newsis.com/view/?id=NISX20221110_0002080982&cID=14001&pID=14000 이번 학술대회에는 군·산·학·연의 국방과학기술 분야 연구 개발자 1500여 명이 참여하고, 405편의 논문을 발표할 예정이다. 이번 행사는 박정환 육군참모총장과 이택구 대전광역시 행정부시장의 환영사와 이헌승 국회...\n",
      "국내 IT와 스타트업들, \"최대 위협 요인은 개발자 부족\" https://hankookilbo.com/News/Read/A2022111014430001598?did=NA 이날 서울 동대문디자인플라자(DDP)에서 열린 스타트업 박람회 '컴업 2022'에서도 ‘스타트업에 필요한 우수 인재 유인 방안’ 토론회를 통해 개발자 확보 방안을 논의했다. 참석자들은 개발자 부족의 해소책으로 다른...\n",
      "\"개발자 부담 덜어준다\"…KT클라우드 '서버리스 코드·앱 런' 출시 https://www.news1.kr/articles/4858636 KT클라우드가 프로그램·서비스 개발 후 배포 및 인프라 관리까지 하나의 서비스형으로 제공해 개발자가... 이번에 출시된 '서버리스 코드·앱 런'은 개발자가 플랫폼에서 프로그램을 개발 후 제공만 하면, 배포...\n",
      "원스토어 게임 개발자 무료컨설팅 \"무엇이든 물어보세요\" http://news.mt.co.kr/mtview.php?no=2022110910020317375 앱마켓 원스토어가 경기콘텐츠진흥원과 함께 경기도 내 게임 개발자 대상 무료 컨설팅 '무엇이든... 컨설팅은 참가 신청자 중 약 20명을 선발해 신청 내용을 토대로 현업 전문가와 개발자를 사전 매칭한 후, 현장에서 대면...\n",
      "NHN, 지스타서 '게임앤빌' 선공개... 서버 개발자 인력난 해소 https://www.etnews.com/20221109000077 클라이언트나 웹 개발자를 포함한 초보 개발자들도 쉽게 사용 가능할 만큼 간단하다. 다수 이용자가 동시에 접속하는 N:N 접속 게임, 턴제 및 보드 게임, 싱글 이용자 게임 등 다양한 게임 서버를 쉽고 빠르게 만들 수...\n",
      "카카오모빌, 신입·경력 개발자 공개채용…\"두 자릿수 규모\" https://www.yna.co.kr/view/AKR20221108077300017?input=1195m 카카오모빌리티는 신입·경력 개발자 공개채용을 진행한다고 8일 밝혔다. 카카오모빌리티 단독으로 진행하는 첫 공개채용으로 규모는 두 자릿수다. 신입사원 모집 분야는 백엔드, 프론트엔드, iOS, 안드로이드이나...\n",
      "카카오게임즈, ‘아레스’ 개발자 영상 공개…차별화 요소는? http://www.edaily.co.kr/news/newspath.asp?newsid=03857286632524080 사진=카카오게임즈 카카오게임즈(293490)는 지난 8일 자사 신작 ‘아레스:라이즈 오브 가디언즈’(이하 아레스) 공식 티저 사이트를 통해 세컨드다이브 반승철(사진) 대표를 포함한 주요 개발 디렉터들의 인터뷰 영상을...\n",
      "[콘텐츠 핫&뉴] 카카오게임즈, 신작 ‘아레스’ 개발자 노트 공개 https://www.mk.co.kr/article/10523498 9일 공개한 ‘옥냥이x개발자 인터뷰’ 영상에서는 ‘문명: 레인 오브 파워’의 개발 총괄을 맡고 있는 김태곤 디렉터와 김성민 개발 PD가 등장해 게임의 특징들을 소개했다. 김태곤 디렉터는 “문명5의 재미 요소들은...\n",
      "하이퍼그로스 강동주 대표, KDT(멀티잇) 풀스택 개발자 취업캠프서 인재 양성 http://www.wowtv.co.kr/NewsCenter/News/Read?articleId=A202211110125&t=NN 에듀테크 스타트업 하이퍼그로스의 강동주 대표가 KDT([멀티) 풀스택 개발자 취업캠프(Python) 과정에서 인재... 특히 기업별 면접 및 코딩테스트 유형 분석 정보를 제공하고 실제 개발자들의 업무 방식에 대한 이해를...\n",
      "대전대, '2022 메타버스 개발자 경진대회' 우수상 http://www.ccnnews.co.kr/news/articleView.html?idxno=275626 메타버스 개발자 경진대회\"에서 우수상과 함께 500만원의 상금을 획득했다고 11일 밝혔다. 과기부 '2022 메타버스 개발자 경진대회' 우수상 수상 (중앙 양기택, 우 이홍교) 해당 대회는 Meta, Unity, 카카오, KT 등 메타버스와...\n",
      "\"개발자도 내보낸다\"...연봉 경쟁하던 IT업계 채용 한파 https://view.asiae.co.kr/article/2022110910350452949 \"IT 업계에서 개발자는 신성불가침의 영역이나 다름없었는데 구조조정 대상에서 피해 갈 수 없는 분위기다.... 스타트업들도 개발자나 C레벨까지 가리지 않고 구조조정에 나섰다. 연봉 경쟁으로 인력을 뺏고 빼앗기던...\n",
      "세컨드팀, COMEUP 2022 참가… \"해외 개발자 HR 플랫폼 '슈퍼코더'로 채용난 ... http://kr.aving.net/news/articleView.html?idxno=1773997 세컨드팀은 개발자 채용에 어려움을 겪는 기업에 개발자 역량 검증 및 국내 & 해외 개발자 채용 서비스를 제공하고 있다. 특히 국내외 테크 기업의 고질적인 개발자 채용 문제를 창의적인 방식으로 해결하기 위해...\n",
      "카카오게임즈, ‘아레스’ 개발자 영상 공개…차별화 요소는? http://www.edaily.co.kr/news/newspath.asp?newsid=03857286632524080 사진=카카오게임즈 카카오게임즈(293490)는 지난 8일 자사 신작 ‘아레스:라이즈 오브 가디언즈’(이하 아레스) 공식 티저 사이트를 통해 세컨드다이브 반승철(사진) 대표를 포함한 주요 개발 디렉터들의 인터뷰 영상을...\n",
      "“개발자 모시기는 옛말, 짤릴까 걱정”…판교에 무슨 일이 https://www.mk.co.kr/article/10522071 “작년만해도 개발자는 부르는 게 몸값이라는 말이 있었다. 지금은 연봉 높여 옮기는 것은 언감생심이고... 네이버의 경우 개발자의 경우 퇴사자를 비롯한 자연 감소분을 보강하는 차원에서만 인력을 충원하고, 그...\n",
      "지스타 2022에서 성사된 퍼브매틱과 한국 게임 개발자와의 만남 https://ditoday.com/%ec%a7%80%ec%8a%a4%ed%83%80-2022%ec%97%90%ec%84%9c-%ec%84%b1%ec%82%ac%eb%90%9c-%ed%8d%bc%eb%b8%8c%eb%a7%a4%ed%8b%b1%ea%b3%bc-%ed%95%9c%ea%b5%ad-%ea%b2%8c%ec%9e%84-%ea%b0%9c%eb%b0%9c%ec%9e%90%ec%99%80/ 게임 개발자들이 한데 모이는 활기찬 허브 도시가 된 것을 매우 자랑스럽게 생각한다. 또한 이번... 퍼브매틱은 2019년 말부터 한국 퍼블리셔 및 앱 개발자와 협력을 시작했다. 한국 시장에서 셀 사이드 퍼블리셔, 앱...\n",
      "마이크로소프트 한국서 개발자 행사…나델라 CEO 4년만에 방한 https://www.yna.co.kr/view/AKR20221108100200017?input=1195m 호텔에서 개발자 행사 '마이크로소프트 이그나이트 스포트라이트 온 코리아'를 연다고 8일 밝혔다. 이번 행사에서 마이크로소프트는 지난달 열린 연례 개발자 행사 '이그나이트'에서 소개한 주요 기술 및 인사이트를...\n",
      "고급 개발자 '반값'에 채용?…\"인도·캄보디아로 와라\" [긱스] https://www.hankyung.com/it/article/202211101109i \"미국 실리콘밸리에서 인도계 개발자를 고용하려면 수백만달러가 듭니다. 하지만 인도 현지에서 똑같은 수준의 개발자 고용하는 일은 50만달러면 됩니다. 한국의 스타트업 입장에선 인도의 훌륭한 인재들을 활용할...\n",
      "넥슨, 지스타 2022 출품작 9종 공개 “인플루언서·방송 없다…개발자 현장에... https://biz.chosun.com/it-science/ict/2022/11/08/253KORE5FVCEZPMGRBIMM33W4Q/?utm_source=naver&utm_medium=original&utm_campaign=biz 넥슨은 게임 인플루언서나 방송 부스 등 기존의 행사 운영 방식을 버리고 스타 개발자가 부스를 방문해... 스타 개발자와 부스 곳곳에서 이용자가 대화할 수 있는 시간을 마련했다”라고 했다. 최 본부장은 “각...\n",
      "신작 PC 슈팅 게임 ‘베일드 엑스퍼트’ 개발자 스트리밍 주요 내용 정리 https://www.gamechosun.co.kr/webzine/article/view.php?no=190203 넥슨의 신작 PC 슈팅 게임 ‘베일드 엑스퍼트’의 개발자 스트리밍 방송이 11월 10일 오후 6시부터 공식 유튜브, 트위치 채널에서 실시간으로 진행된다. 이번 스트리밍에서는 넥슨게임즈 김명현 본부장과 정동일...\n"
     ]
    }
   ],
   "source": [
    "# 3단계\n",
    "# 엑셀 저장 (불러오기 기능 추가)\n",
    "import requests\n",
    "from bs4 import BeautifulSoup\n",
    "import openpyxl\n",
    "\n",
    "keyword = input(\"검색어 입력:\")\n",
    "page = int(input(\"페이지 입력:\"))\n",
    "\n",
    "wb = openpyxl.load_workbook('네이버뉴스크롤링.xlsx')\n",
    "ws = wb.create_sheet(keyword)\n",
    "ws.append(['제목', '링크', '내용'])\n",
    "\n",
    "for i in range(1, page + 1):\n",
    "    response = requests.get(f\"https://search.naver.com/search.naver?where=news&sm=tab_jum&query={keyword}&start={10*(i-1)+1}\")\n",
    "    html = response.text\n",
    "    soup = BeautifulSoup(html, 'html.parser')\n",
    "\n",
    "    # 10개 기사 덩어리 가져오기\n",
    "    articles = soup.select(\".news_area\")\n",
    "\n",
    "    for article in articles:\n",
    "        anchor = article.select_one(\".news_tit\")\n",
    "        title = anchor.text\n",
    "        link = anchor.attrs['href']\n",
    "        content = article.select_one(\".api_txt_lines.dsc_txt_wrap\").text\n",
    "        print(title, link, content)\n",
    "        ws.append([title, link, content])\n",
    "wb.save('네이버뉴스크롤링.xlsx')"
   ]
  },
  {
   "cell_type": "code",
   "execution_count": null,
   "metadata": {},
   "outputs": [],
   "source": []
  }
 ],
 "metadata": {
  "kernelspec": {
   "display_name": "Python 3.10.6 64-bit",
   "language": "python",
   "name": "python3"
  },
  "language_info": {
   "codemirror_mode": {
    "name": "ipython",
    "version": 3
   },
   "file_extension": ".py",
   "mimetype": "text/x-python",
   "name": "python",
   "nbconvert_exporter": "python",
   "pygments_lexer": "ipython3",
   "version": "3.10.6"
  },
  "orig_nbformat": 4,
  "vscode": {
   "interpreter": {
    "hash": "200fa5d0b2981d58b1f27a61a10a35692b9d56d91ef977d0357ac52583da061d"
   }
  }
 },
 "nbformat": 4,
 "nbformat_minor": 2
}
