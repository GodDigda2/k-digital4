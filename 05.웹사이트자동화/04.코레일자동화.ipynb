{
 "cells": [
  {
   "cell_type": "code",
   "execution_count": 3,
   "metadata": {},
   "outputs": [
    {
     "name": "stderr",
     "output_type": "stream",
     "text": [
      "C:\\Users\\startcoding\\AppData\\Local\\Temp\\ipykernel_6712\\1196199924.py:6: DeprecationWarning: executable_path has been deprecated, please pass in a Service object\n",
      "  driver = webdriver.Chrome(\"c://chromedriver.exe\")\n"
     ]
    }
   ],
   "source": [
    "from selenium import webdriver\n",
    "from selenium.webdriver.common.by import By\n",
    "from selenium.webdriver.common.keys import Keys\n",
    "from selenium.webdriver.support.ui import Select\n",
    "import time\n",
    "\n",
    "driver = webdriver.Chrome(\"c://chromedriver.exe\")\n",
    "driver.get(\"https://www.letskorail.com/\")\n",
    "\n",
    "# 출발역\n",
    "start = driver.find_element(By.CSS_SELECTOR, \"#txtGoStart\")\n",
    "start.clear() # 입력창 비우기\n",
    "start.send_keys(\"대전\")\n",
    "\n",
    "# 도착역\n",
    "end = driver.find_element(By.CSS_SELECTOR, \"#txtGoEnd\")\n",
    "end.clear()\n",
    "end.send_keys(\"부산\")"
   ]
  },
  {
   "cell_type": "code",
   "execution_count": null,
   "metadata": {},
   "outputs": [],
   "source": [
    "# 시간\n",
    "s_box = Select(driver.find_element(By.CSS_SELECTOR, \"#time\"))\n",
    "s_box.select_by_value(\"08\")\n",
    "\n",
    "# 인원\n",
    "p_box = Select(driver.find_element(By.CSS_SELECTOR, \"#people_num\"))\n",
    "p_box.select_by_value(\"3\")"
   ]
  }
 ],
 "metadata": {
  "kernelspec": {
   "display_name": "Python 3.10.6 64-bit",
   "language": "python",
   "name": "python3"
  },
  "language_info": {
   "codemirror_mode": {
    "name": "ipython",
    "version": 3
   },
   "file_extension": ".py",
   "mimetype": "text/x-python",
   "name": "python",
   "nbconvert_exporter": "python",
   "pygments_lexer": "ipython3",
   "version": "3.10.6"
  },
  "orig_nbformat": 4,
  "vscode": {
   "interpreter": {
    "hash": "200fa5d0b2981d58b1f27a61a10a35692b9d56d91ef977d0357ac52583da061d"
   }
  }
 },
 "nbformat": 4,
 "nbformat_minor": 2
}
