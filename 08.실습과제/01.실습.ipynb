{
 "cells": [
  {
   "cell_type": "code",
   "execution_count": 3,
   "metadata": {},
   "outputs": [],
   "source": [
    "from PyQt5.QtWidgets import *\n",
    "from PyQt5 import uic\n",
    "import sys\n",
    "import pyautogui\n",
    "from PyQt5.QtGui import QPixmap\n",
    "from PyQt5.QtCore import QRect\n",
    "import requests\n",
    "from bs4 import BeautifulSoup\n",
    "import openpyxl\n",
    "from selenium import webdriver\n",
    "from selenium.webdriver.common.by import By\n",
    "from selenium.webdriver.common.keys import Keys\n",
    "import time\n"
   ]
  },
  {
   "cell_type": "code",
   "execution_count": 7,
   "metadata": {},
   "outputs": [
    {
     "name": "stderr",
     "output_type": "stream",
     "text": [
      "C:\\Users\\papam\\AppData\\Local\\Temp\\ipykernel_21364\\2609743574.py:2: DeprecationWarning: executable_path has been deprecated, please pass in a Service object\n",
      "  driver = webdriver.Chrome(\"c://chromedriver.exe\")\n"
     ]
    }
   ],
   "source": [
    "#셀레니움으로 인터넷 창 켜기\n",
    "driver = webdriver.Chrome(\"c://chromedriver.exe\")\n",
    "driver.get(\"https://www.naver.com/\")\n",
    "time.sleep(2)\n",
    "#검색창 선택 코드\n",
    "search = driver.find_element(By.CSS_SELECTOR, \"#query\")\n",
    "search.click()\n",
    "#검색창 텍스트 입력 코드\n",
    "search.send_keys(\"유튜브\") #검색창에 입력하는 코드\n",
    "time.sleep(1)"
   ]
  },
  {
   "cell_type": "code",
   "execution_count": 6,
   "metadata": {},
   "outputs": [
    {
     "name": "stdout",
     "output_type": "stream",
     "text": [
      "유튜브\n",
      "유튜브 프리미엄 우회\n",
      "유튜브 프리미엄\n",
      "유튜브 프리미엄 가격\n",
      "유튜브 음원추출\n",
      "유튜브 수익\n",
      "유튜브 다운로드\n",
      "유튜브 오류\n",
      "유튜브 뮤직\n",
      "유튜브 성인인증\n"
     ]
    }
   ],
   "source": [
    "\n",
    "#연관검색어 덩어리\n",
    "search_linkers = driver.find_elements(By.CSS_SELECTOR,\"#autoFrame > div > div > div.atcmp_fixer._atcmp_layer > div.atcmp_container._words > ul > li\")\n",
    "#연관검색어 추출\n",
    "for linker in search_linkers:\n",
    "    try:\n",
    "        title = linker.find_element(By.CSS_SELECTOR, \"a > span\").text\n",
    "        print(title)\n",
    "    except:\n",
    "        pass\n",
    "    "
   ]
  },
  {
   "cell_type": "code",
   "execution_count": 9,
   "metadata": {},
   "outputs": [
    {
     "ename": "AttributeError",
     "evalue": "'str' object has no attribute 'send_keys'",
     "output_type": "error",
     "traceback": [
      "\u001b[1;31m---------------------------------------------------------------------------\u001b[0m",
      "\u001b[1;31mAttributeError\u001b[0m                            Traceback (most recent call last)",
      "\u001b[1;32mc:\\A_Firstproject\\study\\k-digital4\\08.실습과제\\01.실습.ipynb 셀 4\u001b[0m in \u001b[0;36m<cell line: 4>\u001b[1;34m()\u001b[0m\n\u001b[0;32m      <a href='vscode-notebook-cell:/c%3A/A_Firstproject/study/k-digital4/08.%EC%8B%A4%EC%8A%B5%EA%B3%BC%EC%A0%9C/01.%EC%8B%A4%EC%8A%B5.ipynb#W3sZmlsZQ%3D%3D?line=3'>4</a>\u001b[0m \u001b[39mfor\u001b[39;00m search \u001b[39min\u001b[39;00m search_list:\n\u001b[0;32m      <a href='vscode-notebook-cell:/c%3A/A_Firstproject/study/k-digital4/08.%EC%8B%A4%EC%8A%B5%EA%B3%BC%EC%A0%9C/01.%EC%8B%A4%EC%8A%B5.ipynb#W3sZmlsZQ%3D%3D?line=4'>5</a>\u001b[0m     input_list \u001b[39m=\u001b[39m search_list\u001b[39m.\u001b[39mpop()\n\u001b[1;32m----> <a href='vscode-notebook-cell:/c%3A/A_Firstproject/study/k-digital4/08.%EC%8B%A4%EC%8A%B5%EA%B3%BC%EC%A0%9C/01.%EC%8B%A4%EC%8A%B5.ipynb#W3sZmlsZQ%3D%3D?line=5'>6</a>\u001b[0m     search\u001b[39m.\u001b[39;49msend_keys(input_list) \u001b[39m#검색창에 입력하는 코드\u001b[39;00m\n\u001b[0;32m      <a href='vscode-notebook-cell:/c%3A/A_Firstproject/study/k-digital4/08.%EC%8B%A4%EC%8A%B5%EA%B3%BC%EC%A0%9C/01.%EC%8B%A4%EC%8A%B5.ipynb#W3sZmlsZQ%3D%3D?line=7'>8</a>\u001b[0m     search_linkers \u001b[39m=\u001b[39m driver\u001b[39m.\u001b[39mfind_elements(By\u001b[39m.\u001b[39mCSS_SELECTOR,\u001b[39m\"\u001b[39m\u001b[39m#autoFrame > div > div > div.atcmp_fixer._atcmp_layer > div.atcmp_container._words > ul > li\u001b[39m\u001b[39m\"\u001b[39m)\n\u001b[0;32m      <a href='vscode-notebook-cell:/c%3A/A_Firstproject/study/k-digital4/08.%EC%8B%A4%EC%8A%B5%EA%B3%BC%EC%A0%9C/01.%EC%8B%A4%EC%8A%B5.ipynb#W3sZmlsZQ%3D%3D?line=8'>9</a>\u001b[0m \u001b[39m#연관검색어 추출\u001b[39;00m\n",
      "\u001b[1;31mAttributeError\u001b[0m: 'str' object has no attribute 'send_keys'"
     ]
    }
   ],
   "source": [
    "#ㄱㄴㄷ리스트랑 반복구문으로 값받기\n",
    "search_list = [\"ㄱ\",\"ㄴ\",\"ㄷ\",\"ㄹ\",\"ㅁ\",\"ㅂ\",\"ㅅ\",\"ㅇ\",\"ㅈ\",\"ㅊ\",\"ㅋ\",\"ㅌ\",\"ㅍ\",\"ㅎ\"]\n",
    "input_list = []\n",
    "for search in search_list:\n",
    "    input_list = search_list.pop()\n",
    "    input_list.astype(str)\n",
    "    \n",
    "    search.send_keys(input_list) #검색창에 입력하는 코드\n",
    "    \n",
    "    search_linkers = driver.find_elements(By.CSS_SELECTOR,\"#autoFrame > div > div > div.atcmp_fixer._atcmp_layer > div.atcmp_container._words > ul > li\")\n",
    "#연관검색어 추출\n",
    "    for linker in search_linkers:\n",
    "        try:\n",
    "            title = linker.find_element(By.CSS_SELECTOR, \"a > span\").text\n",
    "            print(title)\n",
    "        except:\n",
    "            pass \n",
    "    #맨 마지막 \n",
    "    input_list = []\n",
    "    search.Keys.BACKSPACE()"
   ]
  },
  {
   "cell_type": "code",
   "execution_count": null,
   "metadata": {},
   "outputs": [],
   "source": [
    "#엑셀에 값받기"
   ]
  },
  {
   "cell_type": "code",
   "execution_count": null,
   "metadata": {},
   "outputs": [],
   "source": [
    "#리퀘스트로 데이터 받기\n",
    "response = requests.get(\"https://www.naver.com/\")\n",
    "html = response.text\n",
    "soup = BeautifulSoup(html, 'html.parser')\n",
    "soup.select_one(\"#video-title > yt-formatted-string\").text"
   ]
  }
 ],
 "metadata": {
  "kernelspec": {
   "display_name": "Python 3.9.12 ('base')",
   "language": "python",
   "name": "python3"
  },
  "language_info": {
   "codemirror_mode": {
    "name": "ipython",
    "version": 3
   },
   "file_extension": ".py",
   "mimetype": "text/x-python",
   "name": "python",
   "nbconvert_exporter": "python",
   "pygments_lexer": "ipython3",
   "version": "3.9.12"
  },
  "orig_nbformat": 4,
  "vscode": {
   "interpreter": {
    "hash": "014a1d4f4127abf91d419a90ea146722ef617667aa392137e996c5d4104c429e"
   }
  }
 },
 "nbformat": 4,
 "nbformat_minor": 2
}
