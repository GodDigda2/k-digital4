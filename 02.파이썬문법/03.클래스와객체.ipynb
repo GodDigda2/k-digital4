{
 "cells": [
  {
   "cell_type": "code",
   "execution_count": 1,
   "metadata": {},
   "outputs": [
    {
     "name": "stdout",
     "output_type": "stream",
     "text": [
      "나는 몬스터다!!!\n"
     ]
    }
   ],
   "source": [
    "# 클래스\n",
    "class Monster:\n",
    "    # 메서드\n",
    "    def say(self):\n",
    "        print(\"나는 몬스터다!!!\")\n",
    "\n",
    "# 객체\n",
    "shark = Monster()\n",
    "shark.say()"
   ]
  },
  {
   "cell_type": "code",
   "execution_count": 6,
   "metadata": {},
   "outputs": [
    {
     "name": "stdout",
     "output_type": "stream",
     "text": [
      "이름: 사자 공격력: 100\n",
      "이름: 바론 공격력: 240\n"
     ]
    }
   ],
   "source": [
    "class Monster:\n",
    "    def __init__(self, name, attack):\n",
    "        self.name = name\n",
    "        self.attack = attack\n",
    "    def info(self):\n",
    "        print(f'이름: {self.name} 공격력: {self.attack}')\n",
    "\n",
    "lion = Monster(\"사자\", 100)\n",
    "baron = Monster(\"바론\", 240)\n",
    "lion.info()\n",
    "baron.info()"
   ]
  },
  {
   "cell_type": "code",
   "execution_count": null,
   "metadata": {},
   "outputs": [],
   "source": [
    "# 캐릭터 클래스를 만들고, 속성 메서드 사용해보기\n"
   ]
  }
 ],
 "metadata": {
  "kernelspec": {
   "display_name": "Python 3.10.6 64-bit",
   "language": "python",
   "name": "python3"
  },
  "language_info": {
   "codemirror_mode": {
    "name": "ipython",
    "version": 3
   },
   "file_extension": ".py",
   "mimetype": "text/x-python",
   "name": "python",
   "nbconvert_exporter": "python",
   "pygments_lexer": "ipython3",
   "version": "3.10.6"
  },
  "orig_nbformat": 4,
  "vscode": {
   "interpreter": {
    "hash": "200fa5d0b2981d58b1f27a61a10a35692b9d56d91ef977d0357ac52583da061d"
   }
  }
 },
 "nbformat": 4,
 "nbformat_minor": 2
}
