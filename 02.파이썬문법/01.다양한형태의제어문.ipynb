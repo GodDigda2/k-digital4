{
 "cells": [
  {
   "cell_type": "code",
   "execution_count": 2,
   "metadata": {},
   "outputs": [
    {
     "name": "stdout",
     "output_type": "stream",
     "text": [
      "수익 창출 불가능\n"
     ]
    }
   ],
   "source": [
    "# 실습문제 24\n",
    "sub = int(input(\"현재 구독자수 :\"))\n",
    "watch_time = int(input(\"시청시간 :\"))\n",
    "\n",
    "if sub >= 1000 and watch_time >= 4000:\n",
    "    print(\"수익 창출 가능\")\n",
    "else:\n",
    "    print(\"수익 창출 불가능\")"
   ]
  },
  {
   "cell_type": "code",
   "execution_count": 3,
   "metadata": {},
   "outputs": [
    {
     "name": "stdout",
     "output_type": "stream",
     "text": [
      "->게임을 시작합니다.\n",
      "->랭킹보기\n",
      "다시 입력해주세요.\n",
      "다시 입력해주세요.\n",
      "다시 입력해주세요.\n",
      "->게임을 종료합니다.\n"
     ]
    }
   ],
   "source": [
    "# 실습문제 30\n",
    "while True:\n",
    "    menu = int(input(\"메뉴를 입력하세요: 1. 게임시작 2. 랭킹보기 3. 게임종료:\"))\n",
    "    if menu == 1:\n",
    "        print(\"->게임을 시작합니다.\")\n",
    "    elif menu == 2:\n",
    "        print(\"->랭킹보기\")\n",
    "    elif menu == 3:\n",
    "        print(\"->게임을 종료합니다.\")\n",
    "        break\n",
    "    else:\n",
    "        print(\"다시 입력해주세요.\")\n",
    "    \n",
    "        \n",
    "    "
   ]
  }
 ],
 "metadata": {
  "kernelspec": {
   "display_name": "Python 3.10.6 64-bit",
   "language": "python",
   "name": "python3"
  },
  "language_info": {
   "codemirror_mode": {
    "name": "ipython",
    "version": 3
   },
   "file_extension": ".py",
   "mimetype": "text/x-python",
   "name": "python",
   "nbconvert_exporter": "python",
   "pygments_lexer": "ipython3",
   "version": "3.10.6"
  },
  "orig_nbformat": 4,
  "vscode": {
   "interpreter": {
    "hash": "200fa5d0b2981d58b1f27a61a10a35692b9d56d91ef977d0357ac52583da061d"
   }
  }
 },
 "nbformat": 4,
 "nbformat_minor": 2
}
