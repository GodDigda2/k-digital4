{
 "cells": [
  {
   "cell_type": "code",
   "execution_count": 4,
   "metadata": {},
   "outputs": [],
   "source": [
    "import pyautogui\n",
    "import time\n",
    "\n",
    "# 1. 키보드 입력 (문자)\n",
    "time.sleep(2)\n",
    "pyautogui.write(\"startcoding\", interval=0.25)"
   ]
  },
  {
   "cell_type": "code",
   "execution_count": 5,
   "metadata": {},
   "outputs": [],
   "source": [
    "# 2. 키보드 입력 (키)\n",
    "time.sleep(2)\n",
    "pyautogui.press('enter')"
   ]
  },
  {
   "cell_type": "code",
   "execution_count": 6,
   "metadata": {},
   "outputs": [],
   "source": [
    "# 3. 여러키를 입력\n",
    "time.sleep(2)\n",
    "pyautogui.keyDown('ctrl')\n",
    "pyautogui.press('c')\n",
    "pyautogui.keyUp('ctrl')"
   ]
  },
  {
   "cell_type": "code",
   "execution_count": 7,
   "metadata": {},
   "outputs": [],
   "source": [
    "# hotkey\n",
    "time.sleep(2)\n",
    "pyautogui.hotkey('ctrl', 'v')"
   ]
  },
  {
   "cell_type": "code",
   "execution_count": 8,
   "metadata": {},
   "outputs": [],
   "source": [
    "import pyperclip\n",
    "\n",
    "time.sleep(2)\n",
    "pyperclip.copy('스타트코딩')\n",
    "pyautogui.hotkey('ctrl', 'v')"
   ]
  },
  {
   "cell_type": "code",
   "execution_count": null,
   "metadata": {},
   "outputs": [],
   "source": []
  }
 ],
 "metadata": {
  "kernelspec": {
   "display_name": "Python 3.10.6 64-bit",
   "language": "python",
   "name": "python3"
  },
  "language_info": {
   "codemirror_mode": {
    "name": "ipython",
    "version": 3
   },
   "file_extension": ".py",
   "mimetype": "text/x-python",
   "name": "python",
   "nbconvert_exporter": "python",
   "pygments_lexer": "ipython3",
   "version": "3.10.6"
  },
  "orig_nbformat": 4,
  "vscode": {
   "interpreter": {
    "hash": "200fa5d0b2981d58b1f27a61a10a35692b9d56d91ef977d0357ac52583da061d"
   }
  }
 },
 "nbformat": 4,
 "nbformat_minor": 2
}
