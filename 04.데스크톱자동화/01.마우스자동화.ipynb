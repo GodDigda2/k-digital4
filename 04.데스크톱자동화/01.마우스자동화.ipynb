{
 "cells": [
  {
   "cell_type": "code",
   "execution_count": 2,
   "metadata": {},
   "outputs": [
    {
     "name": "stdout",
     "output_type": "stream",
     "text": [
      "Size(width=2560, height=1600)\n"
     ]
    }
   ],
   "source": [
    "import pyautogui\n",
    "\n",
    "# 화면의 크기\n",
    "print(pyautogui.size())"
   ]
  },
  {
   "cell_type": "code",
   "execution_count": 4,
   "metadata": {},
   "outputs": [
    {
     "data": {
      "text/plain": [
       "Point(x=1492, y=123)"
      ]
     },
     "execution_count": 4,
     "metadata": {},
     "output_type": "execute_result"
    }
   ],
   "source": [
    "import time\n",
    "# 마우스의 위치\n",
    "time.sleep(2)\n",
    "pyautogui.position()"
   ]
  },
  {
   "cell_type": "code",
   "execution_count": 8,
   "metadata": {},
   "outputs": [],
   "source": [
    "# 마우스 이동\n",
    "pyautogui.moveTo(321, 251, 2)\n",
    "\n",
    "# 마우스 클릭\n",
    "# pyautogui.click()\n",
    "# pyautogui.click(button='right')\n",
    "pyautogui.doubleClick()\n"
   ]
  },
  {
   "cell_type": "code",
   "execution_count": 5,
   "metadata": {},
   "outputs": [],
   "source": [
    "# 마우스 드래그\n",
    "# x=2039, y=128 -> x=1492, y=123\n",
    "pyautogui.moveTo(2039, 128, 2)\n",
    "pyautogui.dragTo(1492, 123, 2)"
   ]
  },
  {
   "cell_type": "code",
   "execution_count": null,
   "metadata": {},
   "outputs": [],
   "source": []
  }
 ],
 "metadata": {
  "kernelspec": {
   "display_name": "Python 3.9.12 ('base')",
   "language": "python",
   "name": "python3"
  },
  "language_info": {
   "codemirror_mode": {
    "name": "ipython",
    "version": 3
   },
   "file_extension": ".py",
   "mimetype": "text/x-python",
   "name": "python",
   "nbconvert_exporter": "python",
   "pygments_lexer": "ipython3",
   "version": "3.9.12"
  },
  "orig_nbformat": 4,
  "vscode": {
   "interpreter": {
    "hash": "014a1d4f4127abf91d419a90ea146722ef617667aa392137e996c5d4104c429e"
   }
  }
 },
 "nbformat": 4,
 "nbformat_minor": 2
}
